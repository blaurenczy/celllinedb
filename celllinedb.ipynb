{
 "cells": [
  {
   "cell_type": "markdown",
   "metadata": {},
   "source": [
    "## Tests for converting DB to image"
   ]
  },
  {
   "cell_type": "markdown",
   "metadata": {},
   "source": [
    "### Imports"
   ]
  },
  {
   "cell_type": "code",
   "execution_count": null,
   "metadata": {},
   "outputs": [],
   "source": [
    "import logging\n",
    "import configparser\n",
    "import pandas as pd\n",
    "\n",
    "import matplotlib.pyplot as plt\n",
    "from matplotlib.patches import Ellipse, Polygon, Circle\n",
    "\n",
    "from io import BytesIO\n",
    "\n",
    "from reportlab.pdfgen import canvas\n",
    "from reportlab.lib.pagesizes import A4\n",
    "from reportlab.graphics import renderPDF\n",
    "from reportlab.lib import colors\n",
    "from svglib.svglib import svg2rlg\n",
    "\n",
    "from configparser import ConfigParser\n",
    "\n",
    "%load_ext autoreload\n",
    "%reload_ext autoreload\n",
    "%autoreload 2"
   ]
  },
  {
   "cell_type": "markdown",
   "metadata": {},
   "source": [
    "### Initialize the logging and the config parser"
   ]
  },
  {
   "cell_type": "code",
   "execution_count": null,
   "metadata": {
    "scrolled": false
   },
   "outputs": [],
   "source": [
    "logging.basicConfig(format='%(asctime)s|%(levelname)s| %(message)s', level=logging.INFO)\n",
    "config = ConfigParser()\n",
    "config.read('config.ini')"
   ]
  },
  {
   "cell_type": "markdown",
   "metadata": {},
   "source": [
    "### Read in the excel file"
   ]
  },
  {
   "cell_type": "code",
   "execution_count": null,
   "metadata": {},
   "outputs": [],
   "source": [
    "df = pd.read_excel(config['main']['db_path'], 'DATABASE')\n",
    "df = df.dropna(0, 'all')\n",
    "df = df.loc[:, ['Tiroir', 'Position', 'Name', 'Date_congel', 'Organism', 'Tissue', 'Disease']]\n",
    "df.columns = ['drawer', 'pos', 'name', 'date', 'organism', 'tissue', 'disease']\n",
    "df"
   ]
  },
  {
   "cell_type": "markdown",
   "metadata": {},
   "source": [
    "### Clean data to make consensus on organisms,  tissues and diseases"
   ]
  },
  {
   "cell_type": "code",
   "execution_count": null,
   "metadata": {},
   "outputs": [],
   "source": [
    "# go through each category\n",
    "categories = ['organism', 'disease', 'tissue']\n",
    "for category in categories:\n",
    "    # get the list of keys for this category (like \"human\", \"mouse\", etc. for category \"organism\")\n",
    "    category_keys = config[category]\n",
    "    # store the indices of all matched rows\n",
    "    matched_rows_indices = []\n",
    "    # go through each key\n",
    "    for category_key in category_keys:\n",
    "        # get the list of patterns for the current key (like \"mouse\" or\n",
    "        #    \"musmusculus\" for key \"mouse\" in category \"organism\")\n",
    "        patterns = config[category][category_key].split(',')\n",
    "        # go through each pattern\n",
    "        for pattern in patterns:\n",
    "            # create the actual pattern\n",
    "            pattern = ('.*' + pattern + '.*').replace('.*.*.*', '.*')\n",
    "            # match the pattern to a lower case, cleaned version of the value of each row\n",
    "            matching_rows = df[category].str.replace('[-_^ ()]', '').str.match(pattern, case=False)\n",
    "            # consider badly matched rows (None or NaN) as non-matching\n",
    "            matching_rows[matching_rows.isnull()] = False\n",
    "            # store the list of matched indices\n",
    "            matched_rows_indices.extend(matching_rows[matching_rows].index)\n",
    "            # if there was any match\n",
    "            if matching_rows.sum() > 0:\n",
    "                logging.info('Category \"{:8s}\": found {:3d} rows matching \"{}\"'.format(category,\n",
    "                    matching_rows.sum(), category_key))\n",
    "                # overwrite the value in the rows with the key\n",
    "                df.loc[matching_rows, category] = category_key\n",
    "    # replace all unmatched rows with the \"unknown\" string\n",
    "    logging.info('Category \"{:8s}\": found {:3d} rows without match (set to \"unknown\")'.format(category,\n",
    "        len(df.loc[~df.index.isin(matched_rows_indices), category])))\n",
    "    df.loc[~df.index.isin(matched_rows_indices), category] = 'unknown'\n"
   ]
  },
  {
   "cell_type": "markdown",
   "metadata": {},
   "source": [
    "###  Create a pdf for each drawer"
   ]
  },
  {
   "cell_type": "code",
   "execution_count": null,
   "metadata": {},
   "outputs": [],
   "source": [
    "logging.info(\"Initializing the canvas of the PDF file\")\n",
    "c = canvas.Canvas('celllinedb.pdf', pagesize=A4)\n",
    "cw, ch = A4\n",
    "\n",
    "# Translate origin to upper left corner, to make it easier to use the coordinates from the GIMP draft.\n",
    "#   However, all Y coordinates will need to be negative.\n",
    "c.translate(0, ch)\n",
    "\n",
    "# create the matplotlib figure with the right aspect ratio\n",
    "fig = plt.figure(figsize=[10, 10])\n",
    "ax = plt.gca()\n",
    "plt.axis('off')\n",
    "\n",
    "# add information\n",
    "plt.text(-0.2, 1.2, 'Tiroir X', fontsize=60)\n",
    "\n",
    "# draw a base triangle-like polygon\n",
    "bot_left = [0.054, 0.15]\n",
    "top_left = [0.44, 0.96]\n",
    "top_right = [0.56, 0.96]\n",
    "bot_right = [0.946, 0.15]\n",
    "polygon = Polygon([bot_left, top_left, top_right, bot_right], True, facecolor='black')\n",
    "ax.add_patch(polygon)\n",
    "\n",
    "# draw an ellipse at the bottom\n",
    "ellipse_center = [0.5, 0.15]\n",
    "ellipse_width = 0.89\n",
    "ellipse_height = 0.3\n",
    "arc = Ellipse(ellipse_center, ellipse_width, ellipse_height, facecolor='black')\n",
    "ax.add_patch(arc)\n",
    "\n",
    "# set parameters for all the circle drawing\n",
    "circle_top_left = [top_left[0] + 0.02, top_left[1] - 0.05]\n",
    "circle_pad = [0.026, 0.03]\n",
    "circle_x_shift = 0.04\n",
    "n_circles = 1\n",
    "circle_diameter = 0.07\n",
    "letters = ['A', 'B', 'C', 'D', 'E', 'F', 'G', 'H', 'I', 'J', 'K', 'L', 'M', 'N', 'O', 'P']\n",
    "side_label_fontsize = 40\n",
    "circle_name_fontsize = 7\n",
    "circle_date_fontsize = 8\n",
    "\n",
    "# go row by row\n",
    "for i_row in range(11):\n",
    "    # every row has one more circle\n",
    "    n_circles += 1\n",
    "    # for each circle on a row\n",
    "    for i_circle in range(n_circles):\n",
    "        # define the coordinates of the current circle's center\n",
    "        x = circle_top_left[0] + i_circle * (2 * circle_radius + circle_pad[0]) - i_row * circle_x_shift\n",
    "        y = circle_top_left[1] - i_row * (2 * circle_radius + circle_pad[1])\n",
    "        \n",
    "        # draw the first \"column\" (circle number) label\n",
    "        if i_circle == 0 and i_row == 0:\n",
    "            plt.text(x + 0.02, y + 0.07, '↙ ', fontsize=label_fontsize)\n",
    "            plt.text(x + 0.07, y + 0.11, str(i_circle + 1), fontsize=side_label_fontsize)\n",
    "            \n",
    "        # draw the \"column\" (circle number) labels\n",
    "        if i_circle == n_circles - 1 and i_row < 10:\n",
    "            plt.text(x + 0.02, y + 0.04, '↙ ', fontsize=label_fontsize)\n",
    "            plt.text(x + 0.08, y + 0.08, str(i_circle + 1), fontsize=side_label_fontsize)\n",
    "        \n",
    "        # draw the row number labels\n",
    "        if i_circle == 0 and i_row == 10:\n",
    "            plt.text(x - 0.12, y - 0.02, letters[i_row] + ' →', fontsize=side_label_fontsize)\n",
    "        elif i_circle == 0:\n",
    "            plt.text(x - 0.2, y - 0.02, letters[i_row] + ' →', fontsize=side_label_fontsize)\n",
    "            \n",
    "        # last row only has 4 circles, so skip if we are not currently processing those\n",
    "        if i_row == 10 and i_circle not in [3, 4, 7, 8]: continue\n",
    "            \n",
    "        # draw the current circle\n",
    "        e = Ellipse([x, y], circle_diameter, circle_diameter, linewidth=2, facecolor='white')\n",
    "        ax.add_patch(e)\n",
    "        \n",
    "        # write the content of the circle\n",
    "        plt.text(x, y + 0.01, 'SKOV3', fontsize=circle_name_fontsize, horizontalalignment='center')\n",
    "        plt.text(x, y - 0.01, '11/09/19', fontsize=circle_date_fontsize, horizontalalignment='center')"
   ]
  },
  {
   "cell_type": "code",
   "execution_count": null,
   "metadata": {},
   "outputs": [],
   "source": [
    "# re-position the axe\n",
    "ax.set_position([0.1, 0, 0.8, 1])\n",
    "# save the matplotlib figure as SVG to BytesIO object\n",
    "img_data = BytesIO()\n",
    "fig.savefig(img_data, format='svg', transparent=True)\n",
    "# rewind the bytes array and convert to a reportlab Drawing object\n",
    "img_data.seek(0)\n",
    "drawing = svg2rlg(img_data)\n",
    "# rescale the drawing to make sure it has the right pixel size\n",
    "drawing.scale(0.9 * cw / drawing.width, 0.6 * ch / drawing.height)\n",
    "# draw the object to the canvas\n",
    "renderPDF.draw(drawing, c, 50, -ch + 100)\n",
    "\n",
    "logging.info(\"Saving PDF file\")\n",
    "c.showPage()\n",
    "c.save()"
   ]
  },
  {
   "cell_type": "code",
   "execution_count": null,
   "metadata": {},
   "outputs": [],
   "source": []
  },
  {
   "cell_type": "code",
   "execution_count": null,
   "metadata": {},
   "outputs": [],
   "source": []
  }
 ],
 "metadata": {
  "kernelspec": {
   "display_name": "Python 3",
   "language": "python",
   "name": "python3"
  },
  "language_info": {
   "codemirror_mode": {
    "name": "ipython",
    "version": 3
   },
   "file_extension": ".py",
   "mimetype": "text/x-python",
   "name": "python",
   "nbconvert_exporter": "python",
   "pygments_lexer": "ipython3",
   "version": "3.7.4"
  }
 },
 "nbformat": 4,
 "nbformat_minor": 2
}
